{
 "cells": [
  {
   "cell_type": "markdown",
   "id": "587f9602-aa62-4f6f-8573-91868c7fcea2",
   "metadata": {},
   "source": [
    "# Smart Insights for Insurance Success: Predicting Customer Conversion\n",
    "Step into the realm of predictive analytics with me as the insurance insight architect, in our project, \"Smart Insights for Insurance Success: Predicting Customer Conversion.\" With machine learning as compass and historical data as guide, we sets out to revolutionize how insurance companies forecast customer behavior.\n",
    "\n",
    "In the competitive landscape of insurance, accurately predicting customer conversion can redefine success. Our mission is to develop a robust machine learning model that unveils patterns within historical data, revealing the customers most likely to purchase an insurance policy.\n",
    "\n",
    "This project's core revolves around translating data into actionable insights. By harnessing the power of machine learning, we aim to enhance conversion rates, optimize resource allocation, and ultimately elevate the company's profitability.\n",
    "\n",
    "The historical data we have is a treasure trove, holding the key to understanding customer behavior within the insurance domain. Ouur expertise lies in deciphering this data, using it to construct a model that predicts customer conversion with precision.\n",
    "\n",
    "Our project isn't just about predicting customer behavior; it's a transformative journey that can redefine how insurance companies approach customer acquisition and retention strategies.\n",
    "\n",
    "By the end of this project, We won't just create a model; we would unveils the potential to transform how insurance companies understand and attract customers, ultimately driving success in a highly competitive market.\n",
    "\n",
    "Join me on this illuminating journey, where each data point and machine learning algorithm unveils insights that can reshape the insurance industry's future. Together, we'll uncover patterns and trends that empower insurance companies to make smarter, data-driven decisions, leading to increased customer conversion and sustained profitability"
   ]
  },
  {
   "cell_type": "markdown",
   "id": "656dea5a-ff68-4127-9c89-9ebc1438ae05",
   "metadata": {},
   "source": [
    "# Module 1\n",
    "# Task 1: \n",
    "Data Exploration for Insurance Success\n",
    "In our project, \"Smart Insights for Insurance Success: Predicting Customer Conversion,\" this task involves importing and exploring the 'customers_dataset.csv'. This initial step is crucial as it sets the foundation for understanding the dataset's structure, features, and potential insights it holds. By examining this data, we aim to gain preliminary insights that will guide our subsequent analyses towards predicting customer conversion."
   ]
  },
  {
   "cell_type": "code",
   "execution_count": 82,
   "id": "7db9cad2-0560-49d2-80dd-c98ddae9ca1a",
   "metadata": {},
   "outputs": [
    {
     "data": {
      "text/html": [
       "<div>\n",
       "<style scoped>\n",
       "    .dataframe tbody tr th:only-of-type {\n",
       "        vertical-align: middle;\n",
       "    }\n",
       "\n",
       "    .dataframe tbody tr th {\n",
       "        vertical-align: top;\n",
       "    }\n",
       "\n",
       "    .dataframe thead th {\n",
       "        text-align: right;\n",
       "    }\n",
       "</style>\n",
       "<table border=\"1\" class=\"dataframe\">\n",
       "  <thead>\n",
       "    <tr style=\"text-align: right;\">\n",
       "      <th></th>\n",
       "      <th>age</th>\n",
       "      <th>job</th>\n",
       "      <th>marital</th>\n",
       "      <th>education_qual</th>\n",
       "      <th>call_type</th>\n",
       "      <th>day</th>\n",
       "      <th>mon</th>\n",
       "      <th>dur</th>\n",
       "      <th>num_calls</th>\n",
       "      <th>prev_outcome</th>\n",
       "      <th>y</th>\n",
       "    </tr>\n",
       "  </thead>\n",
       "  <tbody>\n",
       "    <tr>\n",
       "      <th>0</th>\n",
       "      <td>58</td>\n",
       "      <td>management</td>\n",
       "      <td>married</td>\n",
       "      <td>tertiary</td>\n",
       "      <td>unknown</td>\n",
       "      <td>5</td>\n",
       "      <td>may</td>\n",
       "      <td>261</td>\n",
       "      <td>1</td>\n",
       "      <td>unknown</td>\n",
       "      <td>no</td>\n",
       "    </tr>\n",
       "    <tr>\n",
       "      <th>1</th>\n",
       "      <td>44</td>\n",
       "      <td>technician</td>\n",
       "      <td>single</td>\n",
       "      <td>secondary</td>\n",
       "      <td>unknown</td>\n",
       "      <td>5</td>\n",
       "      <td>may</td>\n",
       "      <td>151</td>\n",
       "      <td>1</td>\n",
       "      <td>unknown</td>\n",
       "      <td>no</td>\n",
       "    </tr>\n",
       "    <tr>\n",
       "      <th>2</th>\n",
       "      <td>33</td>\n",
       "      <td>entrepreneur</td>\n",
       "      <td>married</td>\n",
       "      <td>secondary</td>\n",
       "      <td>unknown</td>\n",
       "      <td>5</td>\n",
       "      <td>may</td>\n",
       "      <td>76</td>\n",
       "      <td>1</td>\n",
       "      <td>unknown</td>\n",
       "      <td>no</td>\n",
       "    </tr>\n",
       "    <tr>\n",
       "      <th>3</th>\n",
       "      <td>47</td>\n",
       "      <td>blue-collar</td>\n",
       "      <td>married</td>\n",
       "      <td>unknown</td>\n",
       "      <td>unknown</td>\n",
       "      <td>5</td>\n",
       "      <td>may</td>\n",
       "      <td>92</td>\n",
       "      <td>1</td>\n",
       "      <td>unknown</td>\n",
       "      <td>no</td>\n",
       "    </tr>\n",
       "    <tr>\n",
       "      <th>4</th>\n",
       "      <td>33</td>\n",
       "      <td>unknown</td>\n",
       "      <td>single</td>\n",
       "      <td>unknown</td>\n",
       "      <td>unknown</td>\n",
       "      <td>5</td>\n",
       "      <td>may</td>\n",
       "      <td>198</td>\n",
       "      <td>1</td>\n",
       "      <td>unknown</td>\n",
       "      <td>no</td>\n",
       "    </tr>\n",
       "    <tr>\n",
       "      <th>...</th>\n",
       "      <td>...</td>\n",
       "      <td>...</td>\n",
       "      <td>...</td>\n",
       "      <td>...</td>\n",
       "      <td>...</td>\n",
       "      <td>...</td>\n",
       "      <td>...</td>\n",
       "      <td>...</td>\n",
       "      <td>...</td>\n",
       "      <td>...</td>\n",
       "      <td>...</td>\n",
       "    </tr>\n",
       "    <tr>\n",
       "      <th>45206</th>\n",
       "      <td>51</td>\n",
       "      <td>technician</td>\n",
       "      <td>married</td>\n",
       "      <td>tertiary</td>\n",
       "      <td>cellular</td>\n",
       "      <td>17</td>\n",
       "      <td>nov</td>\n",
       "      <td>977</td>\n",
       "      <td>3</td>\n",
       "      <td>unknown</td>\n",
       "      <td>yes</td>\n",
       "    </tr>\n",
       "    <tr>\n",
       "      <th>45207</th>\n",
       "      <td>71</td>\n",
       "      <td>retired</td>\n",
       "      <td>divorced</td>\n",
       "      <td>primary</td>\n",
       "      <td>cellular</td>\n",
       "      <td>17</td>\n",
       "      <td>nov</td>\n",
       "      <td>456</td>\n",
       "      <td>2</td>\n",
       "      <td>unknown</td>\n",
       "      <td>yes</td>\n",
       "    </tr>\n",
       "    <tr>\n",
       "      <th>45208</th>\n",
       "      <td>72</td>\n",
       "      <td>retired</td>\n",
       "      <td>married</td>\n",
       "      <td>secondary</td>\n",
       "      <td>cellular</td>\n",
       "      <td>17</td>\n",
       "      <td>nov</td>\n",
       "      <td>1127</td>\n",
       "      <td>5</td>\n",
       "      <td>success</td>\n",
       "      <td>yes</td>\n",
       "    </tr>\n",
       "    <tr>\n",
       "      <th>45209</th>\n",
       "      <td>57</td>\n",
       "      <td>blue-collar</td>\n",
       "      <td>married</td>\n",
       "      <td>secondary</td>\n",
       "      <td>telephone</td>\n",
       "      <td>17</td>\n",
       "      <td>nov</td>\n",
       "      <td>508</td>\n",
       "      <td>4</td>\n",
       "      <td>unknown</td>\n",
       "      <td>no</td>\n",
       "    </tr>\n",
       "    <tr>\n",
       "      <th>45210</th>\n",
       "      <td>37</td>\n",
       "      <td>entrepreneur</td>\n",
       "      <td>married</td>\n",
       "      <td>secondary</td>\n",
       "      <td>cellular</td>\n",
       "      <td>17</td>\n",
       "      <td>nov</td>\n",
       "      <td>361</td>\n",
       "      <td>2</td>\n",
       "      <td>other</td>\n",
       "      <td>no</td>\n",
       "    </tr>\n",
       "  </tbody>\n",
       "</table>\n",
       "<p>45211 rows × 11 columns</p>\n",
       "</div>"
      ],
      "text/plain": [
       "       age           job   marital education_qual  call_type  day  mon   dur  \\\n",
       "0       58    management   married       tertiary    unknown    5  may   261   \n",
       "1       44    technician    single      secondary    unknown    5  may   151   \n",
       "2       33  entrepreneur   married      secondary    unknown    5  may    76   \n",
       "3       47   blue-collar   married        unknown    unknown    5  may    92   \n",
       "4       33       unknown    single        unknown    unknown    5  may   198   \n",
       "...    ...           ...       ...            ...        ...  ...  ...   ...   \n",
       "45206   51    technician   married       tertiary   cellular   17  nov   977   \n",
       "45207   71       retired  divorced        primary   cellular   17  nov   456   \n",
       "45208   72       retired   married      secondary   cellular   17  nov  1127   \n",
       "45209   57   blue-collar   married      secondary  telephone   17  nov   508   \n",
       "45210   37  entrepreneur   married      secondary   cellular   17  nov   361   \n",
       "\n",
       "       num_calls prev_outcome    y  \n",
       "0              1      unknown   no  \n",
       "1              1      unknown   no  \n",
       "2              1      unknown   no  \n",
       "3              1      unknown   no  \n",
       "4              1      unknown   no  \n",
       "...          ...          ...  ...  \n",
       "45206          3      unknown  yes  \n",
       "45207          2      unknown  yes  \n",
       "45208          5      success  yes  \n",
       "45209          4      unknown   no  \n",
       "45210          2        other   no  \n",
       "\n",
       "[45211 rows x 11 columns]"
      ]
     },
     "execution_count": 82,
     "metadata": {},
     "output_type": "execute_result"
    }
   ],
   "source": [
    "#--- Import Pandas ---\n",
    "import pandas as pd\n",
    "\n",
    "#--- Read in dataset (\"customers_dataset.csv\") ----\n",
    "df = pd.read_csv('customers_dataset.csv')\n",
    "\n",
    "#--- Inspect data ---\n",
    "df"
   ]
  },
  {
   "cell_type": "markdown",
   "id": "b48a08c4-a54e-4084-8304-5d7055b110c1",
   "metadata": {},
   "source": [
    "# Task 2: Identifying Null Values\n",
    "In this task, we aim to identify null values within the dataset ('customers_dataset.csv'). The count of null values (sumofnull) will assist us in understanding the extent of missing data across different features. This exploration is essential for data preprocessing, ensuring that we handle missing values appropriately to maintain data integrity for accurate predictive modeling.\n",
    "\n",
    "# Task\n",
    "Count the number of null values in each column of the DataFrame 'df' and store the result in the variable 'sumofnull'"
   ]
  },
  {
   "cell_type": "code",
   "execution_count": 83,
   "id": "fa60b416-e22f-402b-b278-d036b12e3a3b",
   "metadata": {},
   "outputs": [
    {
     "data": {
      "text/plain": [
       "age               0\n",
       "job               0\n",
       "marital           0\n",
       "education_qual    0\n",
       "call_type         0\n",
       "day               0\n",
       "mon               0\n",
       "dur               0\n",
       "num_calls         0\n",
       "prev_outcome      0\n",
       "y                 0\n",
       "dtype: int64"
      ]
     },
     "execution_count": 83,
     "metadata": {},
     "output_type": "execute_result"
    }
   ],
   "source": [
    "sumofnull = df.isnull().sum()\n",
    "\n",
    "#--- Inspect data ---\n",
    "sumofnull"
   ]
  },
  {
   "cell_type": "markdown",
   "id": "5db5c4c2-7076-4271-ae53-a7a8ed91559c",
   "metadata": {},
   "source": [
    "# Task 3: Examining Data Types\n",
    "This task involves examining the data types present in the dataset. The 'dtype' variable holds information about the data types of various features. Understanding the data types is crucial for preprocessing and modeling steps. It assists in ensuring that the data is appropriately represented for predictive analytics, enabling us to make informed decisions on feature engineering and transformations.\n",
    "\n",
    "# Task\n",
    "Retrieve the data types of each column in the Dataframe 'df'. Assign the result to the variable 'dtype'."
   ]
  },
  {
   "cell_type": "code",
   "execution_count": 84,
   "id": "60adc99e-0264-4aa1-9a6f-fe2b5704ab4b",
   "metadata": {},
   "outputs": [
    {
     "data": {
      "text/plain": [
       "age                int64\n",
       "job               object\n",
       "marital           object\n",
       "education_qual    object\n",
       "call_type         object\n",
       "day                int64\n",
       "mon               object\n",
       "dur                int64\n",
       "num_calls          int64\n",
       "prev_outcome      object\n",
       "y                 object\n",
       "dtype: object"
      ]
     },
     "execution_count": 84,
     "metadata": {},
     "output_type": "execute_result"
    }
   ],
   "source": [
    "dtype = df.dtypes\n",
    "\n",
    "#--- Inspect data ---\n",
    "dtype"
   ]
  },
  {
   "cell_type": "markdown",
   "id": "6b1d882c-703a-4c27-9f2a-88033a542b4c",
   "metadata": {},
   "source": [
    "# Task 4: Statistical Description of the Dataset\n",
    "This task involves generating a statistical summary ('describe') of the dataset. The summary includes key statistical measures such as mean, standard deviation, minimum, maximum, and quartile values for numerical features. This descriptive analysis aids in gaining insights into the distribution and characteristics of the dataset's numerical variables, guiding further exploration and potential feature selection or engineering for the predictive modeling process.\n",
    "\n",
    "# Task\n",
    "Produce descriptive statistics for the DataFrame 'df' and store the result in a variable 'describe'."
   ]
  },
  {
   "cell_type": "code",
   "execution_count": 85,
   "id": "cf35334a-2eab-4f54-beed-79750a6f5be4",
   "metadata": {},
   "outputs": [
    {
     "data": {
      "text/html": [
       "<div>\n",
       "<style scoped>\n",
       "    .dataframe tbody tr th:only-of-type {\n",
       "        vertical-align: middle;\n",
       "    }\n",
       "\n",
       "    .dataframe tbody tr th {\n",
       "        vertical-align: top;\n",
       "    }\n",
       "\n",
       "    .dataframe thead th {\n",
       "        text-align: right;\n",
       "    }\n",
       "</style>\n",
       "<table border=\"1\" class=\"dataframe\">\n",
       "  <thead>\n",
       "    <tr style=\"text-align: right;\">\n",
       "      <th></th>\n",
       "      <th>age</th>\n",
       "      <th>day</th>\n",
       "      <th>dur</th>\n",
       "      <th>num_calls</th>\n",
       "    </tr>\n",
       "  </thead>\n",
       "  <tbody>\n",
       "    <tr>\n",
       "      <th>count</th>\n",
       "      <td>45211.000000</td>\n",
       "      <td>45211.000000</td>\n",
       "      <td>45211.000000</td>\n",
       "      <td>45211.000000</td>\n",
       "    </tr>\n",
       "    <tr>\n",
       "      <th>mean</th>\n",
       "      <td>40.936210</td>\n",
       "      <td>15.806419</td>\n",
       "      <td>258.163080</td>\n",
       "      <td>2.763841</td>\n",
       "    </tr>\n",
       "    <tr>\n",
       "      <th>std</th>\n",
       "      <td>10.618762</td>\n",
       "      <td>8.322476</td>\n",
       "      <td>257.527812</td>\n",
       "      <td>3.098021</td>\n",
       "    </tr>\n",
       "    <tr>\n",
       "      <th>min</th>\n",
       "      <td>18.000000</td>\n",
       "      <td>1.000000</td>\n",
       "      <td>0.000000</td>\n",
       "      <td>1.000000</td>\n",
       "    </tr>\n",
       "    <tr>\n",
       "      <th>25%</th>\n",
       "      <td>33.000000</td>\n",
       "      <td>8.000000</td>\n",
       "      <td>103.000000</td>\n",
       "      <td>1.000000</td>\n",
       "    </tr>\n",
       "    <tr>\n",
       "      <th>50%</th>\n",
       "      <td>39.000000</td>\n",
       "      <td>16.000000</td>\n",
       "      <td>180.000000</td>\n",
       "      <td>2.000000</td>\n",
       "    </tr>\n",
       "    <tr>\n",
       "      <th>75%</th>\n",
       "      <td>48.000000</td>\n",
       "      <td>21.000000</td>\n",
       "      <td>319.000000</td>\n",
       "      <td>3.000000</td>\n",
       "    </tr>\n",
       "    <tr>\n",
       "      <th>max</th>\n",
       "      <td>95.000000</td>\n",
       "      <td>31.000000</td>\n",
       "      <td>4918.000000</td>\n",
       "      <td>63.000000</td>\n",
       "    </tr>\n",
       "  </tbody>\n",
       "</table>\n",
       "</div>"
      ],
      "text/plain": [
       "                age           day           dur     num_calls\n",
       "count  45211.000000  45211.000000  45211.000000  45211.000000\n",
       "mean      40.936210     15.806419    258.163080      2.763841\n",
       "std       10.618762      8.322476    257.527812      3.098021\n",
       "min       18.000000      1.000000      0.000000      1.000000\n",
       "25%       33.000000      8.000000    103.000000      1.000000\n",
       "50%       39.000000     16.000000    180.000000      2.000000\n",
       "75%       48.000000     21.000000    319.000000      3.000000\n",
       "max       95.000000     31.000000   4918.000000     63.000000"
      ]
     },
     "execution_count": 85,
     "metadata": {},
     "output_type": "execute_result"
    }
   ],
   "source": [
    "describe = df.describe()\n",
    "\n",
    "#--- Inspect data ---\n",
    "describe"
   ]
  },
  {
   "cell_type": "markdown",
   "id": "d6acdae5-549e-49c6-970e-5fde079f8c81",
   "metadata": {},
   "source": [
    "# Task 5: Analyzing Target Variable Distribution\n",
    "This task focuses on analyzing the distribution of the target variable ('y') in the dataset. By utilizing 'value_counts()', we obtain a count of each unique value present in the target variable. Understanding the distribution of the target variable is crucial for predictive modeling, as it provides insights into the balance or imbalance of classes. This analysis aids in determining the appropriate strategies for model training and evaluation in the context of predicting customer conversion in insurance success.\n",
    "\n",
    "# Task\n",
    "Calculate the count of unique values in the 'y' column of the DataFrame 'df'. Store the counts of these unique values in a variable named 'value_counts'."
   ]
  },
  {
   "cell_type": "code",
   "execution_count": 86,
   "id": "e9a38ee9-cf59-4f66-8ef7-53f4a163b16c",
   "metadata": {},
   "outputs": [
    {
     "data": {
      "text/plain": [
       "y\n",
       "no     39922\n",
       "yes     5289\n",
       "Name: count, dtype: int64"
      ]
     },
     "execution_count": 86,
     "metadata": {},
     "output_type": "execute_result"
    }
   ],
   "source": [
    "value_counts = df['y'].value_counts()\n",
    "\n",
    "#--- Inspect data ---\n",
    "value_counts"
   ]
  },
  {
   "cell_type": "markdown",
   "id": "615e6c97-fba1-422a-96f3-670777f4a4f8",
   "metadata": {},
   "source": [
    "## Module 2\n",
    "# Task 1: Identifying Duplicate Records\n",
    "In this task, we aim to identify and quantify the presence of duplicate records within the dataset. The count of duplicates (referred to as 'duplicates') indicates the number of rows that are identical to others. Recognizing and handling duplicate entries is crucial for ensuring data integrity and accuracy in predictive modeling. This process helps in eliminating redundancy, thereby preventing potential biases or inaccuracies in predicting customer conversion for insurance success.\n",
    "\n",
    "# Task\n",
    "Determine the total number of duplicate rows in the DataFrame 'df' and store the result in a variable 'duplicates'."
   ]
  },
  {
   "cell_type": "code",
   "execution_count": 87,
   "id": "5f39e9f1-32e9-46a6-ac0a-3d54d50d9e76",
   "metadata": {},
   "outputs": [
    {
     "name": "stdout",
     "output_type": "stream",
     "text": [
      "Number of duplicate records are 6\n"
     ]
    }
   ],
   "source": [
    "duplicates = df.duplicated().sum()\n",
    "\n",
    "#--- Inspect data ---\n",
    "print(f\"Number of duplicate records are {duplicates}\")"
   ]
  },
  {
   "cell_type": "markdown",
   "id": "ce79d64f-f077-48b1-b9cf-04f26259f49f",
   "metadata": {},
   "source": [
    "# Task 2: Removing Duplicate Records\n",
    "Building upon the previous task's findings, this step involves removing duplicate records within the dataset. By executing the code to eliminate duplicates, we ensure the dataset is streamlined, containing only unique entries. Removing duplicates is crucial for maintaining data quality and integrity, ultimately aiding in more accurate predictive modeling for customer conversion in the insurance success context.\n",
    "\n",
    "# Task\n",
    "Remove duplicate rows from the 'df' DataFrame."
   ]
  },
  {
   "cell_type": "code",
   "execution_count": 88,
   "id": "a8d4b6df-58df-40ea-bc08-2f35656cf346",
   "metadata": {},
   "outputs": [
    {
     "data": {
      "text/html": [
       "<div>\n",
       "<style scoped>\n",
       "    .dataframe tbody tr th:only-of-type {\n",
       "        vertical-align: middle;\n",
       "    }\n",
       "\n",
       "    .dataframe tbody tr th {\n",
       "        vertical-align: top;\n",
       "    }\n",
       "\n",
       "    .dataframe thead th {\n",
       "        text-align: right;\n",
       "    }\n",
       "</style>\n",
       "<table border=\"1\" class=\"dataframe\">\n",
       "  <thead>\n",
       "    <tr style=\"text-align: right;\">\n",
       "      <th></th>\n",
       "      <th>age</th>\n",
       "      <th>job</th>\n",
       "      <th>marital</th>\n",
       "      <th>education_qual</th>\n",
       "      <th>call_type</th>\n",
       "      <th>day</th>\n",
       "      <th>mon</th>\n",
       "      <th>dur</th>\n",
       "      <th>num_calls</th>\n",
       "      <th>prev_outcome</th>\n",
       "      <th>y</th>\n",
       "    </tr>\n",
       "  </thead>\n",
       "  <tbody>\n",
       "    <tr>\n",
       "      <th>0</th>\n",
       "      <td>58</td>\n",
       "      <td>management</td>\n",
       "      <td>married</td>\n",
       "      <td>tertiary</td>\n",
       "      <td>unknown</td>\n",
       "      <td>5</td>\n",
       "      <td>may</td>\n",
       "      <td>261</td>\n",
       "      <td>1</td>\n",
       "      <td>unknown</td>\n",
       "      <td>no</td>\n",
       "    </tr>\n",
       "    <tr>\n",
       "      <th>1</th>\n",
       "      <td>44</td>\n",
       "      <td>technician</td>\n",
       "      <td>single</td>\n",
       "      <td>secondary</td>\n",
       "      <td>unknown</td>\n",
       "      <td>5</td>\n",
       "      <td>may</td>\n",
       "      <td>151</td>\n",
       "      <td>1</td>\n",
       "      <td>unknown</td>\n",
       "      <td>no</td>\n",
       "    </tr>\n",
       "    <tr>\n",
       "      <th>2</th>\n",
       "      <td>33</td>\n",
       "      <td>entrepreneur</td>\n",
       "      <td>married</td>\n",
       "      <td>secondary</td>\n",
       "      <td>unknown</td>\n",
       "      <td>5</td>\n",
       "      <td>may</td>\n",
       "      <td>76</td>\n",
       "      <td>1</td>\n",
       "      <td>unknown</td>\n",
       "      <td>no</td>\n",
       "    </tr>\n",
       "    <tr>\n",
       "      <th>3</th>\n",
       "      <td>47</td>\n",
       "      <td>blue-collar</td>\n",
       "      <td>married</td>\n",
       "      <td>unknown</td>\n",
       "      <td>unknown</td>\n",
       "      <td>5</td>\n",
       "      <td>may</td>\n",
       "      <td>92</td>\n",
       "      <td>1</td>\n",
       "      <td>unknown</td>\n",
       "      <td>no</td>\n",
       "    </tr>\n",
       "    <tr>\n",
       "      <th>4</th>\n",
       "      <td>33</td>\n",
       "      <td>unknown</td>\n",
       "      <td>single</td>\n",
       "      <td>unknown</td>\n",
       "      <td>unknown</td>\n",
       "      <td>5</td>\n",
       "      <td>may</td>\n",
       "      <td>198</td>\n",
       "      <td>1</td>\n",
       "      <td>unknown</td>\n",
       "      <td>no</td>\n",
       "    </tr>\n",
       "    <tr>\n",
       "      <th>...</th>\n",
       "      <td>...</td>\n",
       "      <td>...</td>\n",
       "      <td>...</td>\n",
       "      <td>...</td>\n",
       "      <td>...</td>\n",
       "      <td>...</td>\n",
       "      <td>...</td>\n",
       "      <td>...</td>\n",
       "      <td>...</td>\n",
       "      <td>...</td>\n",
       "      <td>...</td>\n",
       "    </tr>\n",
       "    <tr>\n",
       "      <th>45206</th>\n",
       "      <td>51</td>\n",
       "      <td>technician</td>\n",
       "      <td>married</td>\n",
       "      <td>tertiary</td>\n",
       "      <td>cellular</td>\n",
       "      <td>17</td>\n",
       "      <td>nov</td>\n",
       "      <td>977</td>\n",
       "      <td>3</td>\n",
       "      <td>unknown</td>\n",
       "      <td>yes</td>\n",
       "    </tr>\n",
       "    <tr>\n",
       "      <th>45207</th>\n",
       "      <td>71</td>\n",
       "      <td>retired</td>\n",
       "      <td>divorced</td>\n",
       "      <td>primary</td>\n",
       "      <td>cellular</td>\n",
       "      <td>17</td>\n",
       "      <td>nov</td>\n",
       "      <td>456</td>\n",
       "      <td>2</td>\n",
       "      <td>unknown</td>\n",
       "      <td>yes</td>\n",
       "    </tr>\n",
       "    <tr>\n",
       "      <th>45208</th>\n",
       "      <td>72</td>\n",
       "      <td>retired</td>\n",
       "      <td>married</td>\n",
       "      <td>secondary</td>\n",
       "      <td>cellular</td>\n",
       "      <td>17</td>\n",
       "      <td>nov</td>\n",
       "      <td>1127</td>\n",
       "      <td>5</td>\n",
       "      <td>success</td>\n",
       "      <td>yes</td>\n",
       "    </tr>\n",
       "    <tr>\n",
       "      <th>45209</th>\n",
       "      <td>57</td>\n",
       "      <td>blue-collar</td>\n",
       "      <td>married</td>\n",
       "      <td>secondary</td>\n",
       "      <td>telephone</td>\n",
       "      <td>17</td>\n",
       "      <td>nov</td>\n",
       "      <td>508</td>\n",
       "      <td>4</td>\n",
       "      <td>unknown</td>\n",
       "      <td>no</td>\n",
       "    </tr>\n",
       "    <tr>\n",
       "      <th>45210</th>\n",
       "      <td>37</td>\n",
       "      <td>entrepreneur</td>\n",
       "      <td>married</td>\n",
       "      <td>secondary</td>\n",
       "      <td>cellular</td>\n",
       "      <td>17</td>\n",
       "      <td>nov</td>\n",
       "      <td>361</td>\n",
       "      <td>2</td>\n",
       "      <td>other</td>\n",
       "      <td>no</td>\n",
       "    </tr>\n",
       "  </tbody>\n",
       "</table>\n",
       "<p>45205 rows × 11 columns</p>\n",
       "</div>"
      ],
      "text/plain": [
       "       age           job   marital education_qual  call_type  day  mon   dur  \\\n",
       "0       58    management   married       tertiary    unknown    5  may   261   \n",
       "1       44    technician    single      secondary    unknown    5  may   151   \n",
       "2       33  entrepreneur   married      secondary    unknown    5  may    76   \n",
       "3       47   blue-collar   married        unknown    unknown    5  may    92   \n",
       "4       33       unknown    single        unknown    unknown    5  may   198   \n",
       "...    ...           ...       ...            ...        ...  ...  ...   ...   \n",
       "45206   51    technician   married       tertiary   cellular   17  nov   977   \n",
       "45207   71       retired  divorced        primary   cellular   17  nov   456   \n",
       "45208   72       retired   married      secondary   cellular   17  nov  1127   \n",
       "45209   57   blue-collar   married      secondary  telephone   17  nov   508   \n",
       "45210   37  entrepreneur   married      secondary   cellular   17  nov   361   \n",
       "\n",
       "       num_calls prev_outcome    y  \n",
       "0              1      unknown   no  \n",
       "1              1      unknown   no  \n",
       "2              1      unknown   no  \n",
       "3              1      unknown   no  \n",
       "4              1      unknown   no  \n",
       "...          ...          ...  ...  \n",
       "45206          3      unknown  yes  \n",
       "45207          2      unknown  yes  \n",
       "45208          5      success  yes  \n",
       "45209          4      unknown   no  \n",
       "45210          2        other   no  \n",
       "\n",
       "[45205 rows x 11 columns]"
      ]
     },
     "execution_count": 88,
     "metadata": {},
     "output_type": "execute_result"
    }
   ],
   "source": [
    "df.drop_duplicates(inplace=True)\n",
    "\n",
    "#--- Inspect data ---\n",
    "df"
   ]
  },
  {
   "cell_type": "markdown",
   "id": "b8f33dfd-c287-4910-938c-cd5b09e74bf3",
   "metadata": {},
   "source": [
    "# Module 3\n",
    "Task 1: Visualizing Target Variable Distribution\n",
    "In this task, we create a count plot ('target_ax') using Seaborn and Matplotlib to visualize the distribution of the target variable ('y'). Visualizing the target variable's distribution helps in understanding the balance or imbalance between classes, which is essential for predictive modeling. This visualization aids in assessing the proportion of converted and non-converted customers, providing valuable insights for insurance success predictions.\n",
    "\n",
    "# Task\n",
    "Generate a count plot using Seaborn's countplot for the target variable 'y' in the DataFrame 'df' and assign it to the variable 'target_ax'."
   ]
  },
  {
   "cell_type": "code",
   "execution_count": 89,
   "id": "e1c8ac14-e0d0-4e37-a082-dc55551ef4e8",
   "metadata": {},
   "outputs": [
    {
     "data": {
      "text/plain": [
       "<Axes: xlabel='y', ylabel='count'>"
      ]
     },
     "execution_count": 89,
     "metadata": {},
     "output_type": "execute_result"
    },
    {
     "data": {
      "image/png": "[encoded data removed]",
      "text/plain": [
       "<Figure size 640x480 with 1 Axes>"
      ]
     },
     "metadata": {},
     "output_type": "display_data"
    }
   ],
   "source": [
    "import matplotlib.pyplot as plt\n",
    "import seaborn as sns\n",
    "\n",
    "target_ax = sns.countplot(x=\"y\", data=df)\n",
    "target_ax"
   ]
  },
  {
   "cell_type": "markdown",
   "id": "48d08ec1-46fc-4beb-b443-33a428eb121e",
   "metadata": {},
   "source": [
    "# Task 2: Visualizing Job Distribution\n",
    "This task involves creating a count plot ('job_ax') using Seaborn to visualize the distribution of customer jobs. Understanding the distribution of jobs among customers is beneficial for gaining insights into the customer demographic and potentially identifying patterns or trends that could impact insurance conversion. This visualization assists in comprehending the diversity of occupations among customers, contributing to the overall analysis for predicting insurance success.\n",
    "\n",
    "# Task\n",
    "Create a count plot depicting the distribution of the 'job' variable using seaborn's 'countplot' function and save the plot in the variable 'job_ax'."
   ]
  },
  {
   "cell_type": "code",
   "execution_count": 90,
   "id": "e4413065-ac72-46ef-b073-e335c8243a5f",
   "metadata": {},
   "outputs": [
    {
     "data": {
      "text/plain": [
       "<Axes: xlabel='job', ylabel='count'>"
      ]
     },
     "execution_count": 90,
     "metadata": {},
     "output_type": "execute_result"
    },
    {
     "data": {
      "image/png": "[encoded data removed]",
      "text/plain": [
       "<Figure size 1500x800 with 1 Axes>"
      ]
     },
     "metadata": {},
     "output_type": "display_data"
    }
   ],
   "source": [
    "fig, ax = plt.subplots(figsize=(15, 8))\n",
    "\n",
    "job_ax  = sns.countplot(x=df['job'])\n",
    "job_ax"
   ]
  },
  {
   "cell_type": "markdown",
   "id": "e1ffe507-411b-44e6-b8d4-39bdf0edfb33",
   "metadata": {},
   "source": [
    "# Task 3: Visualizing Marital Status Distribution\n",
    "In this task, we generate a count plot ('martial_ax') using Seaborn to visualize the distribution of customer marital statuses. Understanding the distribution of marital statuses among customers contributes to a comprehensive understanding of the customer demographic. This visualization assists in assessing whether marital status might influence insurance conversion rates, providing valuable insights for predictive modeling in the context of insurance success.\n",
    "\n",
    "# Task\n",
    "Use seaborn's 'countplot' function to visualize the distribution of the 'marital' variable and store the plot in the variable 'martial_ax'."
   ]
  },
  {
   "cell_type": "code",
   "execution_count": 91,
   "id": "8babbb86-db33-45aa-98c2-9063c9e63b21",
   "metadata": {},
   "outputs": [
    {
     "data": {
      "text/plain": [
       "<Axes: xlabel='marital', ylabel='count'>"
      ]
     },
     "execution_count": 91,
     "metadata": {},
     "output_type": "execute_result"
    },
    {
     "data": {
      "image/png": "[encoded data removed]",
      "text/plain": [
       "<Figure size 640x480 with 1 Axes>"
      ]
     },
     "metadata": {},
     "output_type": "display_data"
    }
   ],
   "source": [
    "martial_ax  = sns.countplot(x=df['marital'])\n",
    "martial_ax"
   ]
  },
  {
   "cell_type": "markdown",
   "id": "6a7dc786-14be-409c-a29b-203fb450b1ad",
   "metadata": {},
   "source": [
    "# Task 4: Visualizing Education Level Distribution\n",
    "This task involves creating a count plot ('edu_ax') using Seaborn to visualize the distribution of customers' education levels. Understanding the distribution of education levels among customers is crucial for evaluating the demographic landscape. This visualization aids in assessing how education levels might correlate with insurance conversion rates, providing valuable insights for predictive modeling in the insurance success context.\n",
    "\n",
    "# Task\n",
    "Employ seaborn's 'countplot' function to illustrate the distribution of the 'education_qual' variable, storing the resulting plot in the variable 'edu_ax'."
   ]
  },
  {
   "cell_type": "code",
   "execution_count": 92,
   "id": "bf23dc9f-9b88-4b50-88fa-f172094d54ef",
   "metadata": {},
   "outputs": [
    {
     "data": {
      "text/plain": [
       "<Axes: xlabel='education_qual', ylabel='count'>"
      ]
     },
     "execution_count": 92,
     "metadata": {},
     "output_type": "execute_result"
    },
    {
     "data": {
      "image/png": "[encoded data removed]",
      "text/plain": [
       "<Figure size 640x480 with 1 Axes>"
      ]
     },
     "metadata": {},
     "output_type": "display_data"
    }
   ],
   "source": [
    "edu_ax  = sns.countplot(x=df['education_qual'])\n",
    "edu_ax"
   ]
  },
  {
   "cell_type": "markdown",
   "id": "a25ee2dd-4873-4440-8007-33218b00bd91",
   "metadata": {},
   "source": [
    "# Task 5: Visualizing Call Type Distribution\n",
    "In this task, we create a count plot ('calltype_ax') using Seaborn to visualize the distribution of different call types made. Understanding the distribution of call types can provide insights into the communication methods used, potentially influencing customer conversion. This visualization assists in understanding the frequency and types of calls made, contributing to the analysis for predicting insurance success.\n",
    "\n",
    "# Task\n",
    "Utilize seaborn's 'countplot' function to display the distribution of the 'call_type' variable and assign the plot to the variable 'calltype_ax'."
   ]
  },
  {
   "cell_type": "code",
   "execution_count": 93,
   "id": "2b24b964-4542-49c2-8d32-04847feea257",
   "metadata": {},
   "outputs": [
    {
     "data": {
      "text/plain": [
       "<Axes: xlabel='call_type', ylabel='count'>"
      ]
     },
     "execution_count": 93,
     "metadata": {},
     "output_type": "execute_result"
    },
    {
     "data": {
      "image/png": "[encoded data removed]",
      "text/plain": [
       "<Figure size 640x480 with 1 Axes>"
      ]
     },
     "metadata": {},
     "output_type": "display_data"
    }
   ],
   "source": [
    "calltype_ax = sns.countplot(x=df['call_type'])\n",
    "calltype_ax"
   ]
  },
  {
   "cell_type": "markdown",
   "id": "cb599fbc-23da-4287-a9a7-0e4cdab2ba22",
   "metadata": {},
   "source": [
    "# Task 6: Visualizing Month Distribution\n",
    "This task involves creating a count plot ('month_ax') using Seaborn to visualize the distribution of months concerning customer interactions. Analyzing the distribution of months in which interactions occurred can reveal seasonal trends or patterns in customer behavior. This visualization aids in understanding the temporal distribution of interactions, contributing to the analysis for predicting insurance success.\n",
    "\n",
    "# Task\n",
    "Produce a count plot of the 'mon' variable using seaborn's 'countplot' function and store it in the variable 'month_ax'."
   ]
  },
  {
   "cell_type": "code",
   "execution_count": 94,
   "id": "7acb3900-9b6b-464d-9bf2-5b138b04ec92",
   "metadata": {},
   "outputs": [
    {
     "data": {
      "text/plain": [
       "<Axes: xlabel='mon', ylabel='count'>"
      ]
     },
     "execution_count": 94,
     "metadata": {},
     "output_type": "execute_result"
    },
    {
     "data": {
      "image/png": "[encoded data removed]",
      "text/plain": [
       "<Figure size 640x480 with 1 Axes>"
      ]
     },
     "metadata": {},
     "output_type": "display_data"
    }
   ],
   "source": [
    "month_ax = sns.countplot(x=df['mon'])\n",
    "month_ax"
   ]
  },
  {
   "cell_type": "markdown",
   "id": "1c2ea83d-984e-4b17-af5b-9d57d7651dcf",
   "metadata": {},
   "source": [
    "# Task 7: Visualizing Previous Outcome Distribution\n",
    "In this task, a count plot ('outcome_ax') using Seaborn is created to visualize the distribution of previous outcomes from customer interactions. Understanding the distribution of previous outcomes can offer insights into historical customer responses, potentially influencing future conversions. This visualization aids in comprehending the impact of past outcomes on present interactions, contributing to the analysis for predicting insurance success.\n",
    "\n",
    "# Task\n",
    "Generate a count plot depicting the distribution of the 'prev_outcome' variable and save the plot in the variable 'outcome_ax'."
   ]
  },
  {
   "cell_type": "code",
   "execution_count": 95,
   "id": "70852d6a-db13-49db-a068-3c6e8ae7f737",
   "metadata": {},
   "outputs": [
    {
     "data": {
      "text/plain": [
       "<Axes: xlabel='prev_outcome', ylabel='count'>"
      ]
     },
     "execution_count": 95,
     "metadata": {},
     "output_type": "execute_result"
    },
    {
     "data": {
      "image/png": "[encoded data removed]",
      "text/plain": [
       "<Figure size 640x480 with 1 Axes>"
      ]
     },
     "metadata": {},
     "output_type": "display_data"
    }
   ],
   "source": [
    "outcome_ax = sns.countplot(x=df['prev_outcome'])\n",
    "outcome_ax"
   ]
  },
  {
   "cell_type": "markdown",
   "id": "dfdc0e8a-cd3c-4091-89d1-2ba419a937cb",
   "metadata": {},
   "source": [
    "# Module 4\n",
    "Task 1: Encoding Categorical Variables\n",
    "In this task, the LabelEncoder from sklearn.preprocessing is utilized to encode categorical variables in the dataset. Categorical features such as 'job', 'marital', 'education_qual', 'call_type', 'mon', 'prev_outcome', and 'y' are encoded for numerical representation. Encoding categorical variables is essential for preparing the data for machine learning models, ensuring that categorical data can be appropriately utilized in predictive modeling for insurance success.\n",
    "\n",
    "# Task\n",
    "Make a copy of dataframe 'df' and store it in variable 'data'.\n",
    "\n",
    "Encode the categorical columns 'job', 'marital', 'education_qual', 'call_type','mon', 'prev_outcome', 'y' in the DataFrame 'data'."
   ]
  },
  {
   "cell_type": "code",
   "execution_count": 97,
   "id": "1c604926-d6ea-4b85-9c14-5c58744b0282",
   "metadata": {},
   "outputs": [
    {
     "data": {
      "text/html": [
       "<div>\n",
       "<style scoped>\n",
       "    .dataframe tbody tr th:only-of-type {\n",
       "        vertical-align: middle;\n",
       "    }\n",
       "\n",
       "    .dataframe tbody tr th {\n",
       "        vertical-align: top;\n",
       "    }\n",
       "\n",
       "    .dataframe thead th {\n",
       "        text-align: right;\n",
       "    }\n",
       "</style>\n",
       "<table border=\"1\" class=\"dataframe\">\n",
       "  <thead>\n",
       "    <tr style=\"text-align: right;\">\n",
       "      <th></th>\n",
       "      <th>age</th>\n",
       "      <th>job</th>\n",
       "      <th>marital</th>\n",
       "      <th>education_qual</th>\n",
       "      <th>call_type</th>\n",
       "      <th>day</th>\n",
       "      <th>mon</th>\n",
       "      <th>dur</th>\n",
       "      <th>num_calls</th>\n",
       "      <th>prev_outcome</th>\n",
       "      <th>y</th>\n",
       "    </tr>\n",
       "  </thead>\n",
       "  <tbody>\n",
       "    <tr>\n",
       "      <th>0</th>\n",
       "      <td>58</td>\n",
       "      <td>4</td>\n",
       "      <td>1</td>\n",
       "      <td>2</td>\n",
       "      <td>2</td>\n",
       "      <td>5</td>\n",
       "      <td>8</td>\n",
       "      <td>261</td>\n",
       "      <td>1</td>\n",
       "      <td>3</td>\n",
       "      <td>0</td>\n",
       "    </tr>\n",
       "    <tr>\n",
       "      <th>1</th>\n",
       "      <td>44</td>\n",
       "      <td>9</td>\n",
       "      <td>2</td>\n",
       "      <td>1</td>\n",
       "      <td>2</td>\n",
       "      <td>5</td>\n",
       "      <td>8</td>\n",
       "      <td>151</td>\n",
       "      <td>1</td>\n",
       "      <td>3</td>\n",
       "      <td>0</td>\n",
       "    </tr>\n",
       "    <tr>\n",
       "      <th>2</th>\n",
       "      <td>33</td>\n",
       "      <td>2</td>\n",
       "      <td>1</td>\n",
       "      <td>1</td>\n",
       "      <td>2</td>\n",
       "      <td>5</td>\n",
       "      <td>8</td>\n",
       "      <td>76</td>\n",
       "      <td>1</td>\n",
       "      <td>3</td>\n",
       "      <td>0</td>\n",
       "    </tr>\n",
       "    <tr>\n",
       "      <th>3</th>\n",
       "      <td>47</td>\n",
       "      <td>1</td>\n",
       "      <td>1</td>\n",
       "      <td>3</td>\n",
       "      <td>2</td>\n",
       "      <td>5</td>\n",
       "      <td>8</td>\n",
       "      <td>92</td>\n",
       "      <td>1</td>\n",
       "      <td>3</td>\n",
       "      <td>0</td>\n",
       "    </tr>\n",
       "    <tr>\n",
       "      <th>4</th>\n",
       "      <td>33</td>\n",
       "      <td>11</td>\n",
       "      <td>2</td>\n",
       "      <td>3</td>\n",
       "      <td>2</td>\n",
       "      <td>5</td>\n",
       "      <td>8</td>\n",
       "      <td>198</td>\n",
       "      <td>1</td>\n",
       "      <td>3</td>\n",
       "      <td>0</td>\n",
       "    </tr>\n",
       "    <tr>\n",
       "      <th>...</th>\n",
       "      <td>...</td>\n",
       "      <td>...</td>\n",
       "      <td>...</td>\n",
       "      <td>...</td>\n",
       "      <td>...</td>\n",
       "      <td>...</td>\n",
       "      <td>...</td>\n",
       "      <td>...</td>\n",
       "      <td>...</td>\n",
       "      <td>...</td>\n",
       "      <td>...</td>\n",
       "    </tr>\n",
       "    <tr>\n",
       "      <th>45206</th>\n",
       "      <td>51</td>\n",
       "      <td>9</td>\n",
       "      <td>1</td>\n",
       "      <td>2</td>\n",
       "      <td>0</td>\n",
       "      <td>17</td>\n",
       "      <td>9</td>\n",
       "      <td>977</td>\n",
       "      <td>3</td>\n",
       "      <td>3</td>\n",
       "      <td>1</td>\n",
       "    </tr>\n",
       "    <tr>\n",
       "      <th>45207</th>\n",
       "      <td>71</td>\n",
       "      <td>5</td>\n",
       "      <td>0</td>\n",
       "      <td>0</td>\n",
       "      <td>0</td>\n",
       "      <td>17</td>\n",
       "      <td>9</td>\n",
       "      <td>456</td>\n",
       "      <td>2</td>\n",
       "      <td>3</td>\n",
       "      <td>1</td>\n",
       "    </tr>\n",
       "    <tr>\n",
       "      <th>45208</th>\n",
       "      <td>72</td>\n",
       "      <td>5</td>\n",
       "      <td>1</td>\n",
       "      <td>1</td>\n",
       "      <td>0</td>\n",
       "      <td>17</td>\n",
       "      <td>9</td>\n",
       "      <td>1127</td>\n",
       "      <td>5</td>\n",
       "      <td>2</td>\n",
       "      <td>1</td>\n",
       "    </tr>\n",
       "    <tr>\n",
       "      <th>45209</th>\n",
       "      <td>57</td>\n",
       "      <td>1</td>\n",
       "      <td>1</td>\n",
       "      <td>1</td>\n",
       "      <td>1</td>\n",
       "      <td>17</td>\n",
       "      <td>9</td>\n",
       "      <td>508</td>\n",
       "      <td>4</td>\n",
       "      <td>3</td>\n",
       "      <td>0</td>\n",
       "    </tr>\n",
       "    <tr>\n",
       "      <th>45210</th>\n",
       "      <td>37</td>\n",
       "      <td>2</td>\n",
       "      <td>1</td>\n",
       "      <td>1</td>\n",
       "      <td>0</td>\n",
       "      <td>17</td>\n",
       "      <td>9</td>\n",
       "      <td>361</td>\n",
       "      <td>2</td>\n",
       "      <td>1</td>\n",
       "      <td>0</td>\n",
       "    </tr>\n",
       "  </tbody>\n",
       "</table>\n",
       "<p>45205 rows × 11 columns</p>\n",
       "</div>"
      ],
      "text/plain": [
       "       age  job  marital  education_qual  call_type  day  mon   dur  \\\n",
       "0       58    4        1               2          2    5    8   261   \n",
       "1       44    9        2               1          2    5    8   151   \n",
       "2       33    2        1               1          2    5    8    76   \n",
       "3       47    1        1               3          2    5    8    92   \n",
       "4       33   11        2               3          2    5    8   198   \n",
       "...    ...  ...      ...             ...        ...  ...  ...   ...   \n",
       "45206   51    9        1               2          0   17    9   977   \n",
       "45207   71    5        0               0          0   17    9   456   \n",
       "45208   72    5        1               1          0   17    9  1127   \n",
       "45209   57    1        1               1          1   17    9   508   \n",
       "45210   37    2        1               1          0   17    9   361   \n",
       "\n",
       "       num_calls  prev_outcome  y  \n",
       "0              1             3  0  \n",
       "1              1             3  0  \n",
       "2              1             3  0  \n",
       "3              1             3  0  \n",
       "4              1             3  0  \n",
       "...          ...           ... ..  \n",
       "45206          3             3  1  \n",
       "45207          2             3  1  \n",
       "45208          5             2  1  \n",
       "45209          4             3  0  \n",
       "45210          2             1  0  \n",
       "\n",
       "[45205 rows x 11 columns]"
      ]
     },
     "execution_count": 97,
     "metadata": {},
     "output_type": "execute_result"
    }
   ],
   "source": [
    "# 1. import tools\n",
    "from sklearn.preprocessing import LabelEncoder\n",
    "\n",
    "# make a copy of df\n",
    "data = df.copy()\n",
    "\n",
    "# 2. create an instance of the package\n",
    "encoder = LabelEncoder()\n",
    "\n",
    "categorical = df.select_dtypes(exclude=['number']).columns.tolist()\n",
    "# 3. Fit\n",
    "\n",
    "# 4. Transform\n",
    "\n",
    "for feature in categorical:\n",
    "    data[feature] = encoder.fit_transform(data[feature])\n",
    "\n",
    "data"
   ]
  },
  {
   "cell_type": "markdown",
   "id": "b662c8c9-194e-4ab8-8443-e1601ed28592",
   "metadata": {},
   "source": [
    "# Task 2: Addressing Class Imbalance using SMOTE\n",
    "In this task, the Synthetic Minority Over-sampling Technique (SMOTE) from the imbalanced-learn library is utilized to address class imbalance in the target variable 'y'. SMOTE generates synthetic samples for the minority class to balance the dataset. This is crucial for improving the model's ability to learn from the minority class, ensuring a more robust predictive model for insurance success without being biased towards the majority class.\n",
    "\n",
    "# Task\n",
    "Separate 'X' (features) and 'y' (target) by excluding the 'y' column from 'X'. Apply SMOTE with random_state=4 on 'X' and 'y'. Finally, store the resampled data in the variables 'X_res' and 'y_res'."
   ]
  },
  {
   "cell_type": "code",
   "execution_count": 98,
   "id": "964c257b-db77-4a64-bec3-710e77c85e8e",
   "metadata": {},
   "outputs": [
    {
     "data": {
      "text/plain": [
       "y\n",
       "0    39916\n",
       "1    39916\n",
       "Name: count, dtype: int64"
      ]
     },
     "execution_count": 98,
     "metadata": {},
     "output_type": "execute_result"
    }
   ],
   "source": [
    "#--- Import SMOTE from imblearn.over_sampling ---\n",
    "# please install imbrearn with pip install imblearn before importing \n",
    "from imblearn.over_sampling import SMOTE\n",
    "\n",
    "x = data.drop(['y'], axis=1)\n",
    "y = data['y']\n",
    "\n",
    "smote=SMOTE(sampling_strategy='minority') \n",
    "\n",
    "X_res, y_res=smote.fit_resample(x,y)\n",
    "\n",
    "#--- Inspect data ---\n",
    "y_res.value_counts()"
   ]
  },
  {
   "cell_type": "markdown",
   "id": "6c12d258-5c62-4386-8f6d-e8a674a28c92",
   "metadata": {},
   "source": [
    "# Task 3: Standardizing Features\n",
    "In this task, the StandardScaler from sklearn.preprocessing is used to standardize the features in the dataset after applying the SMOTE technique. Standardizing the features ensures that all features are on a similar scale, which is crucial for many machine learning algorithms. This preprocessing step prepares the data for modeling, enhancing the model's performance and convergence for predicting insurance success.\n",
    "\n",
    "# Task\n",
    "Use 'StandardScaler()' to scale the features obtained after oversampling with SMOTE, stored in 'X_res'. Store the scaled features in 'x_scaled'."
   ]
  },
  {
   "cell_type": "code",
   "execution_count": 99,
   "id": "dffb213a-3f63-4721-b08b-bbd084d032a0",
   "metadata": {},
   "outputs": [
    {
     "data": {
      "text/plain": [
       "array([[0.51948052, 0.36363636, 0.5       , ..., 0.05307035, 0.        ,\n",
       "        1.        ],\n",
       "       [0.33766234, 0.81818182, 1.        , ..., 0.03070354, 0.        ,\n",
       "        1.        ],\n",
       "       [0.19480519, 0.18181818, 0.5       , ..., 0.01545344, 0.        ,\n",
       "        1.        ],\n",
       "       ...,\n",
       "       [0.35064935, 0.27272727, 0.        , ..., 0.09597397, 0.01612903,\n",
       "        0.66666667],\n",
       "       [0.23376623, 0.36363636, 0.5       , ..., 0.07320049, 0.        ,\n",
       "        0.        ],\n",
       "       [0.46753247, 0.09090909, 0.5       , ..., 0.08906059, 0.03225806,\n",
       "        1.        ]])"
      ]
     },
     "execution_count": 99,
     "metadata": {},
     "output_type": "execute_result"
    }
   ],
   "source": [
    "#--- Import MinMaxScaler from sklearn.preprocessing ---\n",
    "from sklearn.preprocessing import MinMaxScaler\n",
    "\n",
    "# create instance\n",
    "scaler = MinMaxScaler()\n",
    "\n",
    "# fit and transform\n",
    "x_scaled = scaler.fit_transform(X_res)\n",
    "#--- Inspect data ---\n",
    "x_scaled"
   ]
  },
  {
   "cell_type": "markdown",
   "id": "3c28a7c5-d73e-4aa4-b8d8-d6944aeb49c0",
   "metadata": {},
   "source": [
    "# Task 4: Splitting the Dataset for Training and Testing\n",
    "In this task, the dataset is split into training and testing sets using the train_test_split function from sklearn.model_selection. The training set ('x_train' and 'y_train') will be utilized for training the predictive model, while the testing set ('x_test' and 'y_test') will be used to evaluate the model's performance. This step is essential for ensuring an unbiased evaluation of the model's predictive capabilities for insurance success.\n",
    "\n",
    "# Task\n",
    "Split the scaled features 'x_scaled' and the resampled target variable 'y_res' into training and test sets.\n",
    "\n",
    "Use a train size of 80% with a specified 'random_state=4'. Store the results in to varibles x_train, x_test, y_train, y_test."
   ]
  },
  {
   "cell_type": "code",
   "execution_count": 100,
   "id": "fde5a118-0978-4e17-a7a1-f9f759535d14",
   "metadata": {},
   "outputs": [
    {
     "data": {
      "text/plain": [
       "63766    1\n",
       "30733    0\n",
       "63190    1\n",
       "45060    1\n",
       "25647    0\n",
       "        ..\n",
       "26660    0\n",
       "41322    0\n",
       "43723    0\n",
       "38171    0\n",
       "54718    1\n",
       "Name: y, Length: 15967, dtype: int64"
      ]
     },
     "execution_count": 100,
     "metadata": {},
     "output_type": "execute_result"
    }
   ],
   "source": [
    "#--- Import train_test_split ---\n",
    "from sklearn.model_selection import train_test_split\n",
    "\n",
    "#Split the data\n",
    "x_train, x_test, y_train, y_test = train_test_split(x_scaled, y_res, test_size=0.2, random_state=4)\n",
    "\n",
    "#--- Inspect data ---\n",
    "x_train\n",
    "y_train\n",
    "x_test\n",
    "y_test"
   ]
  },
  {
   "cell_type": "markdown",
   "id": "c4d24f6d-0bb3-4124-acaa-0dda7795de1c",
   "metadata": {},
   "source": [
    "# Module 5\n",
    "\n",
    "In this task, Few most relevant models are trained seperately on the training data ('x_train' and 'y_train') and used to make predictions on the testing data ('x_test'). Subsequently, various evaluation metrics such as accuracy, precision, recall, and F1-score are calculated to assess the model's performance in predicting insurance conversion success, where the most performing model is determined. These metrics provide insights into the model's accuracy and effectiveness in making predictions for the target variable.\n",
    "\n",
    "Accuracy: It measures the proportion of correctly predicted instances among the total instances in the dataset. It indicates the overall correctness of predictions, calculated as the ratio of correct predictions to the total number of predictions.\n",
    "\n",
    "Precision: Precision signifies the accuracy of positive predictions made by the model. It measures the proportion of true positive predictions among all positive predictions made by the model. It helps in determining the model's capability to avoid false positives.\n",
    "\n",
    "Recall: Recall (also known as sensitivity or true positive rate) measures the proportion of actual positives that were correctly predicted by the model. It calculates the ratio of true positive predictions to the total actual positives. Recall helps in identifying the model's ability to find all positive instances.\n",
    "\n",
    "F1-score: F1-score is the harmonic mean of precision and recall. It provides a balanced measure between precision and recall. F1-score considers both false positives and false negatives and is useful when dealing with imbalanced class distributions.\n",
    "\n",
    "# Task 1 Training and Evaluating a Naive Bayes Classifier\n",
    "Use the Gaussian Naive Bayes classifier (GaussianNB) to train and evaluate the model.\n",
    "\n",
    "Fit the model on the training data(x_train, y_train), make predictions on the test set(x_test), and compute evaluation metrics such as Accuracy, Precision, Recall, and F1-score. Store it in accuracy,precision,recall,f1 variables."
   ]
  },
  {
   "cell_type": "code",
   "execution_count": 113,
   "id": "ec0762e8-ef0b-4c47-b7bb-33aa137de5d6",
   "metadata": {
    "scrolled": true
   },
   "outputs": [
    {
     "name": "stdout",
     "output_type": "stream",
     "text": [
      "Accuracy_score = 0.739\n",
      "Precision_score = 0.676\n",
      "Recall_score = 0.915\n",
      "F1_score = 0.78\n"
     ]
    }
   ],
   "source": [
    "#--- Import GaussianNB from sklearn.naive_bayes ---\n",
    "from sklearn.naive_bayes import GaussianNB\n",
    "\n",
    "#--- Import accuracy_score, precision_score, recall_score, f1_score from sklearn.metrics ---\n",
    "from sklearn.metrics import accuracy_score\n",
    "from sklearn.metrics import precision_score\n",
    "from sklearn.metrics import recall_score\n",
    "from sklearn.metrics import f1_score\n",
    "\n",
    "# create instance\n",
    "gnb = GaussianNB()\n",
    "\n",
    "# fit data\n",
    "gnb.fit(x_train, y_train)\n",
    "\n",
    "# Make predictions\n",
    "y_pred = gnb.predict(x_test)\n",
    "\n",
    "accuracy = accuracy_score(y_test, y_pred)\n",
    "precision =  precision_score(y_test, y_pred)\n",
    "recall =  recall_score(y_test, y_pred)\n",
    "f1 =  f1_score(y_test, y_pred)\n",
    "\n",
    "#--- Inspect data ---\n",
    "print(f\"Accuracy_score = {round(accuracy, 3)}\\nPrecision_score = {round(precision, 3)}\\nRecall_score = {round(recall, 3)}\\nF1_score = {round(f1, 2)}\")"
   ]
  },
  {
   "cell_type": "markdown",
   "id": "47db22ec-eaf2-4469-b8d2-192110a1eeb6",
   "metadata": {},
   "source": [
    "# Task 2: Training and Evaluating a Linear Discriminant Analysis (LDA) Classifier\n",
    "In this task, a Linear Discriminant Analysis (LDA) classifier is trained on the training data ('x_train' and 'y_train') and used for predictions on the testing data ('x_test'). Following this, various evaluation metrics including accuracy, precision, recall, and F1-score are computed to assess the performance of the LDA model in predicting insurance conversion success. These metrics offer insights into the model's effectiveness and performance compared to other classifiers for this specific predictive task.\n",
    "\n",
    "# Task\n",
    "Use the Linear Discriminant Analysis classifier (LinearDiscriminantAnalysis) to train and evaluate the model.\n",
    "\n",
    "Fit the model on the training data, make predictions on the test set, and compute evaluation metrics such as Accuracy, Precision, Recall, and F1-score. Display these calculated values. Store it in accuracy,precision,recall,f1 variables."
   ]
  },
  {
   "cell_type": "code",
   "execution_count": 114,
   "id": "488d93f1-00a8-4cb9-aea8-a764359286f1",
   "metadata": {},
   "outputs": [
    {
     "name": "stdout",
     "output_type": "stream",
     "text": [
      "Accuracy_score = 0.784\n",
      "Precision_score = 0.773\n",
      "Recall_score = 0.801\n",
      "F1_score = 0.787\n"
     ]
    }
   ],
   "source": [
    "#--- Import LinearDiscriminantAnalysis from sklearn.discriminant_analysis ---\n",
    "from sklearn.discriminant_analysis import LinearDiscriminantAnalysis\n",
    "\n",
    "# create instance\n",
    "lda = LinearDiscriminantAnalysis()\n",
    "\n",
    "# fit data\n",
    "lda.fit(x_train, y_train)\n",
    "\n",
    "# Make predictions\n",
    "y_pred = lda.predict(x_test)\n",
    "\n",
    "accuracy = accuracy_score(y_test, y_pred)\n",
    "precision =  precision_score(y_test, y_pred)\n",
    "recall =  recall_score(y_test, y_pred)\n",
    "f1 =  f1_score(y_test, y_pred)\n",
    "\n",
    "#--- Inspect data ---\n",
    "print(f\"Accuracy_score = {round(accuracy, 3)}\\nPrecision_score = {round(precision, 3)}\\nRecall_score = {round(recall, 3)}\\nF1_score = {round(f1, 3)}\")"
   ]
  },
  {
   "cell_type": "markdown",
   "id": "f0130a0f-8e59-4717-ab4f-145a9288200a",
   "metadata": {},
   "source": [
    "# Task 3: Training and Evaluating a Decision Tree Classifier\n",
    "In this task, a Decision Tree classifier is trained using the training data ('x_train' and 'y_train') and subsequently used for making predictions on the testing data ('x_test'). Evaluation metrics such as accuracy, precision, recall, and F1-score are computed to assess the Decision Tree classifier's performance in predicting insurance conversion success. These metrics provide valuable insights into the model's performance and effectiveness compared to other models in accurately predicting the target variable.\n",
    "\n",
    "# Task\n",
    "Use the Decision Tree Classifier to train and evaluate the model. Train the model on the training data, make predictions on the test set, and compute evaluation metrics such as Accuracy, Precision, Recall, and F1-score. Store it in accuracy, precision, recall, f1."
   ]
  },
  {
   "cell_type": "code",
   "execution_count": 119,
   "id": "fa3173f5-2bca-47ed-9cf7-8a174e4f9486",
   "metadata": {},
   "outputs": [
    {
     "name": "stdout",
     "output_type": "stream",
     "text": [
      "Accuracy_score = 0.903\n",
      "Precision_score = 0.887\n",
      "Recall_score = 0.924\n",
      "F1_score = 0.905\n"
     ]
    }
   ],
   "source": [
    "#--- Import DecisionTreeClassifier ---\n",
    "from sklearn.tree import DecisionTreeClassifier\n",
    "\n",
    "# create instance\n",
    "clf = DecisionTreeClassifier()\n",
    "\n",
    "# fit data\n",
    "clf.fit(x_train, y_train)\n",
    "\n",
    "# Make predictions\n",
    "y_pred = clf.predict(x_test)\n",
    "\n",
    "accuracy = accuracy_score(y_test, y_pred)\n",
    "precision =  precision_score(y_test, y_pred)\n",
    "recall =  recall_score(y_test, y_pred)\n",
    "f1 =  f1_score(y_test, y_pred)\n",
    "\n",
    "#--- Inspect data ---\n",
    "print(f\"Accuracy_score = {round(accuracy, 3)}\\nPrecision_score = {round(precision, 3)}\\nRecall_score = {round(recall, 3)}\\nF1_score = {round(f1, 3)}\")"
   ]
  },
  {
   "cell_type": "markdown",
   "id": "8934a5a1-4769-4021-8785-ffaeb8d88975",
   "metadata": {},
   "source": [
    "# Task 4: Training and Evaluating an Extra Trees Classifier\n",
    "In this task, an Extra Trees classifier is trained on the training data ('x_train' and 'y_train') and used to predict insurance conversion success on the testing data ('x_test'). Subsequently, evaluation metrics including accuracy, precision, recall, and F1-score are calculated to assess the Extra Trees classifier's performance. These metrics aid in understanding how well the model predicts the target variable compared to other classifiers, providing insights into its predictive capabilities for insurance success.\n",
    "\n",
    "# Task\n",
    "Use the Extra Trees Classifier to train and evaluate the model. Train the model on the training data, make predictions on the test set, and compute evaluation metrics such as Accuracy, Precision, Recall, and F1-score. Store it in accuracy, precision, recall, f1 variables."
   ]
  },
  {
   "cell_type": "code",
   "execution_count": 116,
   "id": "6c105d11-c036-447f-a13b-8cad7eba1b64",
   "metadata": {},
   "outputs": [
    {
     "name": "stdout",
     "output_type": "stream",
     "text": [
      "Accuracy_score = 0.9\n",
      "Precision_score = 0.885\n",
      "Recall_score = 0.919\n",
      "F1_score = 0.901\n"
     ]
    }
   ],
   "source": [
    "#--- Import ExtraTreesClassifier ---\n",
    "from sklearn.ensemble import ExtraTreesClassifier\n",
    "\n",
    "extra_trees_classifier = DecisionTreeClassifier()\n",
    "\n",
    "extra_trees_classifier.fit(x_train, y_train)\n",
    "\n",
    "# Make predictions\n",
    "y_pred = extra_trees_classifier.predict(x_test)\n",
    "\n",
    "accuracy = accuracy_score(y_test, y_pred)\n",
    "precision =  precision_score(y_test, y_pred)\n",
    "recall =  recall_score(y_test, y_pred)\n",
    "f1 =  f1_score(y_test, y_pred)\n",
    "\n",
    "#--- Inspect data ---\n",
    "print(f\"Accuracy_score = {round(accuracy, 3)}\\nPrecision_score = {round(precision, 3)}\\nRecall_score = {round(recall, 3)}\\nF1_score = {round(f1, 3)}\")"
   ]
  },
  {
   "cell_type": "markdown",
   "id": "183f8660-d6b4-4866-93c6-3666d14e6fae",
   "metadata": {},
   "source": [
    "# Task 5: Training and Evaluating a Random Forest Classifier\n",
    "In this task, a Random Forest classifier is trained on the training data ('x_train' and 'y_train') using 100 trees and a maximum of 3 features. The model is then used to predict insurance conversion success on the testing data ('x_test'). Subsequently, various evaluation metrics including accuracy, precision, recall, and F1-score are calculated to assess the Random Forest classifier's performance. These metrics provide valuable insights into the model's predictive capabilities for insurance success compared to other classifiers.\n",
    "\n",
    "# Task\n",
    "Use the Random Forest Classifier with parameters: 'n_estimators=100' and 'max_features=3' to train and evaluate the model with specified parameters.\n",
    "Train the model on the training data, make predictions on the test set, and compute evaluation metrics such as Accuracy, Precision, Recall, and F1-score. Store it in accuracy, precision, recall, f1 variables."
   ]
  },
  {
   "cell_type": "code",
   "execution_count": 117,
   "id": "a43332d1-480e-4558-839f-b7429ccd6651",
   "metadata": {},
   "outputs": [
    {
     "name": "stdout",
     "output_type": "stream",
     "text": [
      "Accuracy_score = 0.935\n",
      "Precision_score = 0.914\n",
      "Recall_score = 0.959\n",
      "F1_score = 0.936\n"
     ]
    }
   ],
   "source": [
    "#--- Import RandomForestClassifier ---\n",
    "from sklearn.ensemble import RandomForestClassifier\n",
    "\n",
    "# create instance\n",
    "random_forest_classifier = RandomForestClassifier()\n",
    "\n",
    "#fit model\n",
    "random_forest_classifier.fit(x_train, y_train)\n",
    "\n",
    "# Make predictions\n",
    "y_pred = random_forest_classifier.predict(x_test)\n",
    "\n",
    "accuracy = accuracy_score(y_test, y_pred)\n",
    "precision =  precision_score(y_test, y_pred)\n",
    "recall =  recall_score(y_test, y_pred)\n",
    "f1 =  f1_score(y_test, y_pred)\n",
    "\n",
    "#--- Inspect data ---\n",
    "print(f\"Accuracy_score = {round(accuracy, 3)}\\nPrecision_score = {round(precision, 3)}\\nRecall_score = {round(recall, 3)}\\nF1_score = {round(f1, 3)}\")"
   ]
  },
  {
   "cell_type": "markdown",
   "id": "6ef18cf1-02f2-46c9-abef-2e27eafff63b",
   "metadata": {},
   "source": [
    "# Choosing the most performing Model\n",
    "\n",
    "<img align=\"centre\" src=\"./Screenshot 2024-12-23 at 00.03.05.png\" style=\"width:800px; padding: 10px;  \" /> \n",
    "Based on the evaluation metrics provided, RandomForestClassifier stands out as the most performing model for our prediction task. \n",
    "\n",
    "# Key Insights:\n",
    "\n",
    "1. RandomForestClassifier has the highest values across:\n",
    "\n",
    "   - Accuracy (93.5%): Indicates overall correctness.\n",
    "\n",
    "   - F1-Score (93.6%): A balanced metric between precision and recall, making it robust for imbalanced datasets.\n",
    "\n",
    "   - Precision (91.4%): Suggests the model predicts positives with high reliability.\n",
    "\n",
    "   - Recall (95.9%): Captures nearly all true positive cases.\n",
    "\n",
    "2. DecisionTreeClassifier and ExtraTreesClassifier also perform well but fall slightly short in all metrics compared to RandomForestClassifier.\n",
    "\n",
    "3. GaussianNB has high recall (91.5%) but struggles with lower precision (67.6%) and F1-Score (78%), suggesting it may overpredict positives, which might not be desirable depending on the application.\n",
    "\n",
    "5. LinearDiscriminantAnalysis is a good intermediate performer but does not match the accuracy, precision, or recall of the tree-based models.\n",
    "\n",
    "# Recommendation:\n",
    "RandomForestClassifier is the best choice based on these metrics, offering the best balance of accuracy, precision, recall, and F1-Score. This makes it particularly suitable for applications in our project where both false positives and false negatives need to be minimized."
   ]
  },
  {
   "cell_type": "markdown",
   "id": "82d52d70-4638-4f95-b35b-f166ddc738e1",
   "metadata": {},
   "source": [
    "# Task 6: Visualizing Confusion Matrix (from the best performing model)\n",
    "In this task, a confusion matrix is computed using the predictions ('Y_pred') and actual labels ('y_test'). The confusion matrix provides insights into the classifier's performance by showcasing the counts of true positive, true negative, false positive, and false negative predictions. Visualizing the confusion matrix using a heatmap offers a clear representation of the model's performance in predicting insurance conversion success and failure, aiding in understanding its predictive strengths and weaknesses.\n",
    "\n",
    "# Task\n",
    "Generate a confusion matrix using confusion_matrix, passing y_test and Y_pred. Store the result in conf_matrix. Then, create and display a heatmap using plt.figure, sns.heatmap, and plt.show(). Set the x-axis label to 'Predicted labels', the y-axis label to 'True labels', and the title to 'Confusion Matrix'."
   ]
  },
  {
   "cell_type": "code",
   "execution_count": 112,
   "id": "99149425-f7f6-4936-9544-62e3dd2fbb7e",
   "metadata": {
    "scrolled": true
   },
   "outputs": [
    {
     "data": {
      "image/png": "[encoded data removed]",
      "text/plain": [
       "<Figure size 500x300 with 2 Axes>"
      ]
     },
     "metadata": {},
     "output_type": "display_data"
    }
   ],
   "source": [
    "#--- Import confusion_matrix from sklearn.metrics ---\n",
    "from sklearn.metrics import confusion_matrix\n",
    "\n",
    "# create instance\n",
    "conf_matrix = confusion_matrix(y_test, y_pred)\n",
    "\n",
    "# Plot confusion matrix\n",
    "plt.figure(figsize=(5, 3))\n",
    "sns.heatmap(conf_matrix, annot=True, fmt=\"d\", cmap=\"Blues\", xticklabels=[\"Not Spam\", \"Spam\"], yticklabels=[\"Not Spam\", \"Spam\"])\n",
    "plt.title(\"Confusion Matrix\")\n",
    "plt.ylabel(\"Actual Label\")\n",
    "plt.xlabel(\"Predicted Label\")\n",
    "plt.show()"
   ]
  },
  {
   "cell_type": "markdown",
   "id": "4f71227c-25c5-4e9f-9939-5ca957a06a1d",
   "metadata": {},
   "source": [
    "# Task 7: Making Predictions using the Trained Model\n",
    "In this final task, predictions are made using the trained model ('model') on new data represented by the given input array. The array contains features for a single data point. The 'predict' function is used to generate predictions for insurance conversion success based on the provided data. This step simulates predicting whether a new customer, characterized by the given features, is likely to convert for insurance success based on the trained classifier.\n",
    "\n",
    "# Task\n",
    "Make predictions using the best model on sample data 'sample_data'. Store it in 'prediction' variable."
   ]
  },
  {
   "cell_type": "code",
   "execution_count": 80,
   "id": "3c3cb6fe-680b-4633-bebf-f6a37a711115",
   "metadata": {},
   "outputs": [
    {
     "data": {
      "text/plain": [
       "array([0])"
      ]
     },
     "execution_count": 80,
     "metadata": {},
     "output_type": "execute_result"
    }
   ],
   "source": [
    "# --- WRITE YOUR CODE FOR MODULE 5 TASK 7 ---\n",
    "#You need to predict the result by passing the sample data available here to your model to make a prediction.\n",
    "sample_data = [[ 1.11890229,0.54258669,-1.77156471,1.19499835,2.05712294,-1.12586744,0.23026447,-1.00235892,1.44047353,0.62520208]]\n",
    "\n",
    "prediction = random_forest_classifier.predict(sample_data)\n",
    "\n",
    "#--- Inspect data ---\n",
    "prediction"
   ]
  }
 ],
 "metadata": {
  "kernelspec": {
   "display_name": "Python 3 (ipykernel)",
   "language": "python",
   "name": "python3"
  },
  "language_info": {
   "codemirror_mode": {
    "name": "ipython",
    "version": 3
   },
   "file_extension": ".py",
   "mimetype": "text/x-python",
   "name": "python",
   "nbconvert_exporter": "python",
   "pygments_lexer": "ipython3",
   "version": "3.11.4"
  }
 },
 "nbformat": 4,
 "nbformat_minor": 5
}
